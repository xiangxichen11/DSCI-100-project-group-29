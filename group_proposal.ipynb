{
 "cells": [
  {
   "cell_type": "markdown",
   "id": "e36782c3-dd67-4b7a-9144-933d0f91a13b",
   "metadata": {},
   "source": [
    "## Title"
   ]
  },
  {
   "cell_type": "markdown",
   "id": "6d896f12-233b-4197-989d-2c232c34025a",
   "metadata": {},
   "source": [
    "## Introduction\n",
    "\n",
    "- Provide some relevant background information on the topic so that someone unfamiliar with it will be prepared to understand the rest of your proposal\n",
    "- Clearly state the question you will try to answer with your project\n",
    "- Identify and describe the dataset that will be used to answer the question"
   ]
  },
  {
   "cell_type": "markdown",
   "id": "3c6f4953-7b36-4122-b1c9-6e8923dc614f",
   "metadata": {},
   "source": [
    "The data set we will be using contains information on patients, including age, sex, blood pressure, cholestrol levels, and more. These attributes will be used to predict whether a patients has heart disease. In this proposal, will use machine learning algorithms to analyze the dataset and develop predictive models for heart disease diagnosis. The goal of this is to provide a tool to healthcare professionals to assist in early detection of heart disease, thus aiding in the management of heart disease. \n",
    "\n",
    "The question this model will try to answer is: can we accurately predict the presence or absense of heart disease based on demographic and clinical attributes using the provided dataset. \n",
    "\n",
    "The data set containts information on 303 patients with 13 features about each one. The presence of heart disease in paients is the 'goal' field, with integers ranging from 0 (no heart disease) to 4. Patient names and social security numbers have been removed and replaced with dummy values."
   ]
  },
  {
   "cell_type": "markdown",
   "id": "61309433-c494-4623-9e03-aef27f694248",
   "metadata": {},
   "source": [
    "## Preliminary exploratory data analysis\n",
    "- Demonstrate that the dataset can be read from the web into R \n",
    "- Clean and wrangle your data into a tidy format\n",
    "- **Using only training data**, summarize the data in at least one table (this is exploratory data analysis). An example of a useful table could be one that reports the number of observations in each class, the means of the predictor variables you plan to use in your analysis and how many rows have missing data. \n",
    "- **Using only training data**, visualize the data with at least one plot relevant to the analysis you plan to do (this is exploratory data analysis). An example of a useful visualization could be one that compares the distributions of each of the predictor variables you plan to use in your analysis."
   ]
  },
  {
   "cell_type": "markdown",
   "id": "2e0572a1-4e70-4ba3-99c8-4c07c43db94c",
   "metadata": {},
   "source": [
    "## Methods\n",
    "- Explain how you will conduct either your data analysis and which variables/columns you will use. <ins>Note - you do not need to use all variables/columns that exist in the raw data set. In fact, that's often not a good idea. For each variable think: is this a useful variable for prediction?</ins>\n",
    "- Describe at least one way that you will visualize the results\n"
   ]
  },
  {
   "cell_type": "markdown",
   "id": "c819bc95-0c86-46b9-9d03-d5e8a403fc6f",
   "metadata": {},
   "source": [
    "## Expected outcomes and significance\n",
    "- What do you expect to find?\n",
    "- What impact could such findings have?\n",
    "- What future questions could this lead to?\n"
   ]
  },
  {
   "cell_type": "markdown",
   "id": "f5efbe56-efb4-48eb-a90c-97ae8d1fa2cb",
   "metadata": {},
   "source": [
    "For this study, we hope to discover particular predictors of heart disease, which might range from age and gender to blood pressure and cholesterol levels.\n",
    "\n",
    "This would result in a more efficient and simplified method of identifying potential patients with heart disease simply by running the variables (age, blood pressure, cholesterol levels, etc.) to determine if someone would require additional investigation by scanning through a dataset of patients. This helps with public health policy development and risk assessment.\n",
    "\n",
    "By screening patient data and determining who requires more investigation owing to a possible raised risk of heart disease, we may investigate whether other factors are present in those patients that are also associated with an increased risk of heart disease."
   ]
  },
  {
   "cell_type": "code",
   "execution_count": null,
   "id": "2b80ac4d-1b1f-4b64-991f-aee6e8c5b926",
   "metadata": {},
   "outputs": [],
   "source": []
  }
 ],
 "metadata": {
  "kernelspec": {
   "display_name": "R",
   "language": "R",
   "name": "ir"
  },
  "language_info": {
   "codemirror_mode": "r",
   "file_extension": ".r",
   "mimetype": "text/x-r-source",
   "name": "R",
   "pygments_lexer": "r",
   "version": "4.3.1"
  }
 },
 "nbformat": 4,
 "nbformat_minor": 5
}
